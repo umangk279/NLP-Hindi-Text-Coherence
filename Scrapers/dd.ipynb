{
 "metadata": {
  "language_info": {
   "codemirror_mode": {
    "name": "ipython",
    "version": 3
   },
   "file_extension": ".py",
   "mimetype": "text/x-python",
   "name": "python",
   "nbconvert_exporter": "python",
   "pygments_lexer": "ipython3",
   "version": "3.8.5-final"
  },
  "orig_nbformat": 2,
  "kernelspec": {
   "name": "Python 3.8.5 64-bit",
   "display_name": "Python 3.8.5 64-bit",
   "metadata": {
    "interpreter": {
     "hash": "31f2aee4e71d21fbe5cf8b01ff0e069b9275f58929596ceb00d14d90e3e16cd6"
    }
   }
  }
 },
 "nbformat": 4,
 "nbformat_minor": 2,
 "cells": [
  {
   "cell_type": "code",
   "execution_count": null,
   "metadata": {},
   "outputs": [],
   "source": [
    "import math\n",
    "import os\n",
    "import requests \n",
    "from bs4 import BeautifulSoup\n",
    "from datetime import datetime "
   ]
  },
  {
   "cell_type": "code",
   "execution_count": null,
   "metadata": {},
   "outputs": [],
   "source": [
    "basePath='./../RawData/DD-News-Articles/'"
   ]
  },
  {
   "cell_type": "code",
   "execution_count": null,
   "metadata": {},
   "outputs": [],
   "source": [
    "def getArticleList(pageNo):\n",
    "    l=[]\n",
    "    r=requests.get('http://ddnews.gov.in/hi/about/news-archive?page='+str(pageNo))\n",
    "    soup=BeautifulSoup(r.content,'html5lib')\n",
    "    list=soup.find('div',attrs={'class':'item-list'})\n",
    "    listElements=list.find_all('li')\n",
    "    for element in listElements:\n",
    "        anchor=element.find('a')\n",
    "        l.append(\"http://ddnews.gov.in\"+anchor['href'])\n",
    "    return l"
   ]
  },
  {
   "cell_type": "code",
   "execution_count": null,
   "metadata": {},
   "outputs": [],
   "source": [
    "def getArticle(url):\n",
    "    s=''\n",
    "    r=requests.get(url)\n",
    "    soup=BeautifulSoup(r.content,'html5lib')\n",
    "    news=soup.find('div',attrs={'class':'news_content'})\n",
    "    if(str(news)=='None'):\n",
    "        return s\n",
    "    paragraphs=news.find_all('p')   \n",
    "    for p in paragraphs:\n",
    "        x=str(p.find(text=True))\n",
    "        if(x != 'None'):\n",
    "            s=s+x+os.linesep\n",
    "    return s"
   ]
  },
  {
   "cell_type": "code",
   "execution_count": null,
   "metadata": {
    "tags": []
   },
   "outputs": [],
   "source": [
    "count =0\n",
    "for x in range(1,608):\n",
    "    print(\"Page:\"+str(x))\n",
    "    l=getArticleList(x)\n",
    "    for a in l:\n",
    "        count+=1\n",
    "        s=getArticle(a)\n",
    "        if (s==''):\n",
    "            continue\n",
    "        f = open(basePath+str(count), \"w\")\n",
    "        f.write(s)\n",
    "        f.close()\n",
    "        print(count)"
   ]
  },
  {
   "cell_type": "code",
   "execution_count": null,
   "metadata": {},
   "outputs": [],
   "source": []
  }
 ]
}