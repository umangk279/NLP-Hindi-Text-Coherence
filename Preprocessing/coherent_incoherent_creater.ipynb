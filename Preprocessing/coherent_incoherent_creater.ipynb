{
 "metadata": {
  "language_info": {
   "codemirror_mode": {
    "name": "ipython",
    "version": 3
   },
   "file_extension": ".py",
   "mimetype": "text/x-python",
   "name": "python",
   "nbconvert_exporter": "python",
   "pygments_lexer": "ipython3",
   "version": "3.6.9-final"
  },
  "orig_nbformat": 2,
  "kernelspec": {
   "name": "python36964bit52c1549328374379a921040d98c32a6a",
   "display_name": "Python 3.6.9 64-bit"
  }
 },
 "nbformat": 4,
 "nbformat_minor": 2,
 "cells": [
  {
   "cell_type": "code",
   "execution_count": 1,
   "metadata": {},
   "outputs": [],
   "source": [
    "import os,glob\n",
    "import ntpath\n",
    "import random\n",
    "from indicnlp.tokenize import sentence_tokenize"
   ]
  },
  {
   "cell_type": "code",
   "execution_count": 2,
   "metadata": {},
   "outputs": [],
   "source": [
    "basePath='./../RawData/Wiki'\n",
    "# basePath='./../RawData/DD'\n",
    "coherentPath='./../Data/Coherent/Wiki'\n",
    "# coherentPath='./../Data/Coherent/DD'\n",
    "incoherentPath='./../Data/Incoherent/Wiki'\n",
    "# incoherentPath='./../Data/Incoherent/DD'"
   ]
  },
  {
   "cell_type": "code",
   "execution_count": 3,
   "metadata": {},
   "outputs": [],
   "source": [
    "#taking file name from path\n",
    "def pathLeaf(path):\n",
    "    head, tail = ntpath.split(path)\n",
    "    return tail"
   ]
  },
  {
   "cell_type": "code",
   "execution_count": 4,
   "metadata": {},
   "outputs": [],
   "source": [
    "#clean function just removing \\n with space\n",
    "def clean(mystr):\n",
    "  return mystr.replace('\\n',' ')"
   ]
  },
  {
   "cell_type": "code",
   "execution_count": 5,
   "metadata": {},
   "outputs": [],
   "source": [
    "#putting coherent files in a folder \n",
    "def coherent(text,filename):\n",
    "  myList=sentence_tokenize.sentence_split(text,lang='hi')\n",
    "  if (len(myList)<3):\n",
    "    return\n",
    "  with open(os.path.join(coherentPath, filename), 'w+') as f:\n",
    "    f.write(text)"
   ]
  },
  {
   "cell_type": "code",
   "execution_count": 6,
   "metadata": {},
   "outputs": [],
   "source": [
    "#creating incoherent files and putting in another folder\n",
    "def incoherent(text,filename):\n",
    "  myList=sentence_tokenize.sentence_split(text,lang='hi')\n",
    "  if (len(myList)<3):\n",
    "    return\n",
    "  random.shuffle(myList)\n",
    "  seperator=''\n",
    "  myText=seperator.join(myList)\n",
    "  with open(os.path.join(incoherentPath, filename), 'w+') as f:\n",
    "    f.write(myText)"
   ]
  },
  {
   "cell_type": "code",
   "execution_count": 7,
   "metadata": {},
   "outputs": [],
   "source": [
    "def main():\n",
    "  #taking file one by one from given folder\n",
    "  for filename in glob.glob(os.path.join(basePath, '*')):\n",
    "    with open(filename, 'r+') as f:\n",
    "      text = f.read()\n",
    "      cleanText= clean(text)\n",
    "      leaf0=pathLeaf(basePath)\n",
    "      leaf1=pathLeaf(filename)\n",
    "      leaf=leaf0+leaf1\n",
    "      coherent(cleanText,leaf)\n",
    "      incoherent(cleanText,leaf)"
   ]
  },
  {
   "cell_type": "code",
   "execution_count": 8,
   "metadata": {},
   "outputs": [],
   "source": [
    "main()"
   ]
  },
  {
   "cell_type": "code",
   "execution_count": null,
   "metadata": {},
   "outputs": [],
   "source": []
  }
 ]
}